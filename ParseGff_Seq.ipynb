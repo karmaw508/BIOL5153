{
 "cells": [
  {
   "cell_type": "code",
<<<<<<< HEAD:ParseGff_Seq.ipynb
   "execution_count": 1,
=======
   "execution_count": 7,
>>>>>>> d6a86ac... pushing chapter 3,4,9:p4b_ch04.ipynb
   "metadata": {},
   "outputs": [
    {
     "name": "stdout",
     "output_type": "stream",
     "text": [
<<<<<<< HEAD:ParseGff_Seq.ipynb
      "watermelon\n",
      "Seq('ACGACAAATCCGGTCCGATGGCTGTTCTCCACTAACCACAAGGATATAGGGACT...TTG', SingleLetterAlphabet())\n",
      "379236\n"
=======
      "processed sequence with length 43\n",
      "processed sequence with length 38\n",
      "processed sequence with length 49\n",
      "processed sequence with length 34\n",
      "processed sequence with length 48\n"
>>>>>>> d6a86ac... pushing chapter 3,4,9:p4b_ch04.ipynb
     ]
    }
   ],
   "source": [
<<<<<<< HEAD:ParseGff_Seq.ipynb
    "from Bio import SeqIO\n",
    "for seq_record in SeqIO.parse(\"watermelon.fsa\", \"fasta\"):\n",
    "    print(seq_record.id)\n",
    "    print(repr(seq_record.seq))\n",
    "    print(len(seq_record))\n"
=======
    "# Processing DNA in a file \n",
    "\n",
    "file = open(\"input.txt\")\n",
    "output = open(\"trimmed.txt\", \"w\")\n",
    "for dna in file:\n",
    "    last_character_position = len(dna)\n",
    "    trimmed_dna = dna[14:last_character_position]\n",
    "    output.write(trimmed_dna)\n",
    "    print(\"processed sequence with length \" + str(len(trimmed_dna)))"
>>>>>>> d6a86ac... pushing chapter 3,4,9:p4b_ch04.ipynb
   ]
  },
  {
   "cell_type": "code",
   "execution_count": 23,
   "metadata": {},
   "outputs": [],
   "source": [
    "# Multiple exons from genomic DNA \n",
    "\n",
    "genomic_dna = open(\"genomic_dna.txt\").read()\n",
    "exon_locations = open(\"exons.txt\")\n",
    "coding_sequence = \"\"\n",
    "for line in exon_locations:\n",
    "    positions = line.split(',')\n",
    "    start = int(positions[0])\n",
    "    stop = int(positions[1])\n",
    "    exon = genomic_dna[start:stop]\n",
    "    coding_sequence = coding_sequence + exon \n",
    "output = open(\"coding_sequence.txt\", \"w\")   \n",
    "output.write(coding_sequence)\n",
    "output.close()"
   ]
  },
  {
   "cell_type": "code",
   "execution_count": null,
   "metadata": {},
   "outputs": [],
   "source": []
  }
 ],
 "metadata": {
  "kernelspec": {
   "display_name": "Python 2",
   "language": "python",
   "name": "python2"
  },
  "language_info": {
   "codemirror_mode": {
    "name": "ipython",
    "version": 2
   },
   "file_extension": ".py",
   "mimetype": "text/x-python",
   "name": "python",
   "nbconvert_exporter": "python",
   "pygments_lexer": "ipython2",
   "version": "2.7.15"
  }
 },
 "nbformat": 4,
 "nbformat_minor": 2
}
