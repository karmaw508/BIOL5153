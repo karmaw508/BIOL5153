{
 "cells": [
  {
   "cell_type": "code",
   "execution_count": 1,
   "metadata": {},
   "outputs": [
    {
     "name": "stdout",
     "output_type": "stream",
     "text": [
      "length: 54\n",
      "A count: 16\n",
      "T count: 21\n",
      "AT content is 0.685185185185\n"
     ]
    }
   ],
   "source": [
    "#!/usr/bin/python\n",
    "from __future__ import division\n",
    "\n",
    "# Calculating AT content\n",
    "\n",
    "dna_seq = \"ACTGATCGATTACGTATAGTATTTGCTATCATACATATATATCGATGCGTTCAT\"\n",
    "length = len(dna_seq)\n",
    "a_count = dna_seq.count('A')\n",
    "t_count = dna_seq.count('T')\n",
    "\n",
    "print(\"length: \" + str(length))\n",
    "print(\"A count: \" + str(a_count))\n",
    "print(\"T count: \" + str(t_count))\n",
    "\n",
    "at_count = (a_count + t_count) / length\n",
    "\n",
    "print(\"AT content is \" + str(at_count))#!/usr/bin/python\n",
    "from __future__ import division\n"
   ]
  },
  {
   "cell_type": "code",
   "execution_count": 2,
   "metadata": {},
   "outputs": [
    {
     "name": "stdout",
     "output_type": "stream",
     "text": [
      "Complimentary sequence: TGACTAGCTAATGCATATCATAAACGATAGTATGTATATATAGCTACGCAAGTA\n"
     ]
    }
   ],
   "source": [
    "#!/usr/bin/python\n",
    "\n",
    "# Complimenting DNA\n",
    "\n",
    "dna_seq = \"ACTGATCGATTACGTATAGTATTTGCTATCATACATATATATCGATGCGTTCAT\"\n",
    "\n",
    "replacement1 = dna_seq.replace(\"A\", \"a\")\n",
    "replacement2 = replacement1.replace(\"T\", \"t\")\n",
    "replacement3 = replacement2.replace(\"C\", \"c\")\n",
    "replacement4 = replacement3.replace(\"G\", \"g\")\n",
    "replacement5 = replacement4.replace(\"a\", \"T\")\n",
    "replacement6 = replacement5.replace(\"t\", \"A\")\n",
    "replacement7 = replacement6.replace(\"c\", \"G\")\n",
    "replacement8 = replacement7.replace(\"g\", \"C\")\n",
    "\n",
    "print(\"Complimentary sequence: \" + replacement8)\n"
   ]
  },
  {
   "cell_type": "code",
   "execution_count": 3,
   "metadata": {},
   "outputs": [
    {
     "name": "stdout",
     "output_type": "stream",
     "text": [
      "length of fragment one is 22\n",
      "length of fragment two is 33\n"
     ]
    }
   ],
   "source": [
    "# Restriction fragment length  \n",
    "\n",
    "dna_seq = \"ACTGATCGATTACGTATAGTAGAATTCTATCATACATATATATCGATGCGTTCAT\"\n",
    "\n",
    "frag1_length = dna_seq.find(\"GAATTC\") + 1\n",
    "frag2_length = len(dna_seq) - frag1_length\n",
    "print(\"length of fragment one is \" + str(frag1_length))\n",
    "print(\"length of fragment two is \" + str(frag2_length))"
   ]
  },
  {
   "cell_type": "code",
   "execution_count": 4,
   "metadata": {},
   "outputs": [
    {
     "name": "stdout",
     "output_type": "stream",
     "text": [
      "ATCGATCGATCGATCGACTGACTAGTCATAGCTATGCATGTAGCTACTCGATCGATCGATCGATCATCGATCGATATCGATGCATCGACTACTAT\n"
     ]
    }
   ],
   "source": [
    "# Splicing out introns, part one\n",
    "#!/usr/bin/python\n",
    "\n",
    "dna_seq = \"ATCGATCGATCGATCGACTGACTAGTCATAGCTATGCATGTAGCTACTCGATCGATCGATCGATCGATCGATCGATCGATCGATCATGCTATCATCGATCGATATCGATGCATCGACTACTAT\"\n",
    "\n",
    "exon1 = dna_seq[0:62]\n",
    "exon2 = dna_seq[90:10000]\n",
    "print(exon1 + exon2)\n",
    "\n"
   ]
  },
  {
   "cell_type": "code",
   "execution_count": 5,
   "metadata": {},
   "outputs": [
    {
     "name": "stdout",
     "output_type": "stream",
     "text": [
      "The total length is 123\n",
      "coding length is 95\n",
      "The coding percentage is 77.2357723577\n"
     ]
    }
   ],
   "source": [
    "# Splicing out introns, part two\n",
    "\n",
    "dna_length = len(dna_seq)\n",
    "print(\"The total length is \" + str(dna_length))\n",
    "\n",
    "coding_length = len(exon1 + exon2)\n",
    "print(\"coding length is \" + str(coding_length))\n",
    "\n",
    "coding_percentage = (coding_length / dna_length) * 100\n",
    "print(\"The coding percentage is \" + str(coding_percentage))"
   ]
  },
  {
   "cell_type": "code",
   "execution_count": 6,
   "metadata": {},
   "outputs": [
    {
     "name": "stdout",
     "output_type": "stream",
     "text": [
      "non coding is ATCGATCGATCGATCGATCGATCATGCT\n",
      "coding1 is ATCGATCGATCGATCGACTGACTAGTCATAGCTATGCATGTAGCTACTCGATCGATCGATCG\n",
      "coding2 is ATCATCGATCGATATCGATGCATCGACTACTAT\n",
      "non_coding_lower is: atcgatcgatcgatcgatcgatcatgct\n",
      "ATCGATCGATCGATCGACTGACTAGTCATAGCTATGCATGTAGCTACTCGATCGATCGATCGatcgatcgatcgatcgatcgatcatgctATCATCGATCGATATCGATGCATCGACTACTAT\n"
     ]
    }
   ],
   "source": [
    "# Splicing out introns, part three\n",
    "\n",
    "non_coding = dna_seq[62:90]\n",
    "print(\"non coding is \" + non_coding)\n",
    "\n",
    "print(\"coding1 is \" + exon1)\n",
    "\n",
    "print(\"coding2 is \" + exon2)\n",
    "\n",
    "non_conding_lower = non_coding.lower()\n",
    "\n",
    "print(\"non_coding_lower is: \" + non_coding.lower())\n",
    "\n",
    "print(exon1 + non_coding.lower() + exon2)\n",
    "\n"
   ]
  },
  {
   "cell_type": "code",
   "execution_count": null,
   "metadata": {},
   "outputs": [],
   "source": []
  }
 ],
 "metadata": {
  "kernelspec": {
   "display_name": "Python 2",
   "language": "python",
   "name": "python2"
  },
  "language_info": {
   "codemirror_mode": {
    "name": "ipython",
    "version": 2
   },
   "file_extension": ".py",
   "mimetype": "text/x-python",
   "name": "python",
   "nbconvert_exporter": "python",
   "pygments_lexer": "ipython2",
   "version": "2.7.15"
  }
 },
 "nbformat": 4,
 "nbformat_minor": 2
}
