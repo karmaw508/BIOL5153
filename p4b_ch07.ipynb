{
 "cells": [
  {
   "cell_type": "code",
   "execution_count": null,
   "metadata": {},
   "outputs": [],
   "source": [
    " "
   ]
  },
  {
   "cell_type": "code",
   "execution_count": 17,
   "metadata": {},
   "outputs": [
    {
     "name": "stdout",
     "output_type": "stream",
     "text": [
      "\tyhdck2\n",
      "\teihd39d9\n",
      "\tchdsye847\n",
      "\thedle3455\n",
      "\txjhd53e\n",
      "\t45da\n",
      "\tde37dp\n"
     ]
    }
   ],
   "source": [
    "# Accession number \n",
    "accs = [\"xkn59438\", \"yhdck2\", \"eihd39d9\", \"chdsye847\", \"hedle3455\",\n",
    "\"xjhd53e\", \"45da\", \"de37dp\"]\n",
    "for acc in accs:\n",
    "    if re.search(r\"(d|e)\", acc):\n",
    "        print(\"\\t\" + acc)\n"
   ]
  },
  {
   "cell_type": "code",
   "execution_count": 18,
   "metadata": {},
   "outputs": [
    {
     "name": "stdout",
     "output_type": "stream",
     "text": [
      "\tchdsye847\n",
      "\thedle3455\n",
      "\txjhd53e\n",
      "\tde37dp\n"
     ]
    }
   ],
   "source": [
    "for acc in accs:\n",
    "    if re.search(r\"d.*e\", acc):\n",
    "        print(\"\\t\" + acc)"
   ]
  },
  {
   "cell_type": "code",
   "execution_count": 19,
   "metadata": {},
   "outputs": [
    {
     "name": "stdout",
     "output_type": "stream",
     "text": [
      "\thedle3455\n"
     ]
    }
   ],
   "source": [
    "for acc in accs:\n",
    "    if re.search(r\"(d.e)\", acc):\n",
    "        print(\"\\t\" + acc)"
   ]
  },
  {
   "cell_type": "code",
   "execution_count": 20,
   "metadata": {},
   "outputs": [
    {
     "name": "stdout",
     "output_type": "stream",
     "text": [
      "\teihd39d9\n",
      "\tchdsye847\n",
      "\thedle3455\n",
      "\txjhd53e\n",
      "\tde37dp\n"
     ]
    }
   ],
   "source": [
    "for acc in accs:\n",
    "    if re.search(r\"d.*e\", acc) or re.search(r\"e.*d\", acc):\n",
    "        print(\"\\t\" + acc)"
   ]
  },
  {
   "cell_type": "code",
   "execution_count": 21,
   "metadata": {},
   "outputs": [
    {
     "name": "stdout",
     "output_type": "stream",
     "text": [
      "\txkn59438\n",
      "\tyhdck2\n",
      "\txjhd53e\n"
     ]
    }
   ],
   "source": [
    " for acc in accs:\n",
    "    if re.search(r\"^(x|y)\", acc):\n",
    "        print(\"\\t\" + acc)"
   ]
  },
  {
   "cell_type": "code",
   "execution_count": 22,
   "metadata": {},
   "outputs": [
    {
     "name": "stdout",
     "output_type": "stream",
     "text": [
      "\txkn59438\n",
      "\tchdsye847\n",
      "\thedle3455\n"
     ]
    }
   ],
   "source": [
    "\n",
    "for acc in accs:\n",
    "    if re.search(r\"[0123456789]{3,100}\", acc):\n",
    "        print(\"\\t\" + acc)"
   ]
  },
  {
   "cell_type": "code",
   "execution_count": 23,
   "metadata": {},
   "outputs": [
    {
     "name": "stdout",
     "output_type": "stream",
     "text": [
      "\txkn59438\n",
      "\tchdsye847\n",
      "\thedle3455\n"
     ]
    }
   ],
   "source": [
    "for acc in accs:\n",
    "    if re.search(r\"\\d{3,}\", acc):\n",
    "        print(\"\\t\" + acc)"
   ]
  },
  {
   "cell_type": "code",
   "execution_count": 25,
   "metadata": {},
   "outputs": [
    {
     "name": "stdout",
     "output_type": "stream",
     "text": [
      "\t45da\n",
      "\tde37dp\n"
     ]
    }
   ],
   "source": [
    "for acc in accs:\n",
    "    \n",
    "    if re.search(r\"d[arp]$\", acc):\n",
    "        print(\"\\t\" + acc)"
   ]
  },
  {
   "cell_type": "code",
   "execution_count": 2,
   "metadata": {},
   "outputs": [
    {
     "name": "stdout",
     "output_type": "stream",
     "text": [
      "18\n",
      "[0, 18]\n",
      "one fragment size is  18\n"
     ]
    }
   ],
   "source": [
    "# Double digest \n",
    "import re\n",
    "dna = open(\"dna.txt\").read().rstrip(\"\\n\")\n",
    "print(str(len(dna)))\n",
    "all_cuts = [0]\n",
    "# add cut positions for AbcI\n",
    "for match in re.finditer(r\"A[ATGC]TAAT\", dna):\n",
    "    all_cuts.append(match.start() + 3)\n",
    "# add cut positions for AbcII\n",
    "for match in re.finditer(r\"GC[AG][AT]TG\", dna):\n",
    "    all_cuts.append(match.start() + 4)\n",
    "# add the final position\n",
    "all_cuts.append(len(dna))\n",
    "sorted_cuts = sorted(all_cuts)\n",
    "print(sorted_cuts)\n",
    "for i in range(1,len(sorted_cuts)):\n",
    "    this_cut_position = sorted_cuts[i]\n",
    "    previous_cut_position = sorted_cuts[i-1]\n",
    "    fragment_size = this_cut_position - previous_cut_position\n",
    "    print(\"one fragment size is  \"  + str(fragment_size))\n"
   ]
  }
 ],
 "metadata": {
  "kernelspec": {
   "display_name": "Python 2",
   "language": "python",
   "name": "python2"
  },
  "language_info": {
   "codemirror_mode": {
    "name": "ipython",
    "version": 2
   },
   "file_extension": ".py",
   "mimetype": "text/x-python",
   "name": "python",
   "nbconvert_exporter": "python",
   "pygments_lexer": "ipython2",
   "version": "2.7.15"
  }
 },
 "nbformat": 4,
 "nbformat_minor": 2
}
