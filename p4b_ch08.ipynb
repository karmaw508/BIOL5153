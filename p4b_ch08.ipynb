{
 "cells": [
  {
   "cell_type": "code",
   "execution_count": 21,
   "metadata": {},
   "outputs": [
    {
     "name": "stdout",
     "output_type": "stream",
     "text": [
      "MFG\n",
      "IDRSLLIDQ\n",
      "TDRS_LTYR\n",
      "TIDRXVRSYS\n"
     ]
    }
   ],
   "source": [
    "# DNA translation \n",
    "gencode = {\n",
    "'ATA':'I', 'ATC':'I', 'ATT':'I', 'ATG':'M',\n",
    "'ACA':'T', 'ACC':'T', 'ACG':'T', 'ACT':'T',\n",
    "'AAC':'N', 'AAT':'N', 'AAA':'K', 'AAG':'K',\n",
    "'AGC':'S', 'AGT':'S', 'AGA':'R', 'AGG':'R',\n",
    "'CTA':'L', 'CTC':'L', 'CTG':'L', 'CTT':'L',\n",
    "'CCA':'P', 'CCC':'P', 'CCG':'P', 'CCT':'P',\n",
    "'CAC':'H', 'CAT':'H', 'CAA':'Q', 'CAG':'Q',\n",
    "'CGA':'R', 'CGC':'R', 'CGG':'R', 'CGT':'R',\n",
    "'GTA':'V', 'GTC':'V', 'GTG':'V', 'GTT':'V',\n",
    "'GCA':'A', 'GCC':'A', 'GCG':'A', 'GCT':'A',\n",
    "'GAC':'D', 'GAT':'D', 'GAA':'E', 'GAG':'E',\n",
    "'GGA':'G', 'GGC':'G', 'GGG':'G', 'GGT':'G',\n",
    "'TCA':'S', 'TCC':'S', 'TCG':'S', 'TCT':'S',\n",
    "'TTC':'F', 'TTT':'F', 'TTA':'L', 'TTG':'L',\n",
    "'TAC':'Y', 'TAT':'Y', 'TAA':'_', 'TAG':'_',\n",
    "'TGC':'C', 'TGT':'C', 'TGA':'_', 'TGG':'W'}\n",
    "\n",
    "\n",
    "dna = \"ATGTTCGGT\"\n",
    "codon1 = dna[0:3]\n",
    "codon2 = dna[3:6]\n",
    "codon3 = dna[6:9]\n",
    "#print(codon1, codon2, codon3)\n",
    "\n",
    "def translate_dna(dna):\n",
    "    last_codon_start = len(dna) - 2\n",
    "    protein = \"\"\n",
    "    for start in range(0,last_codon_start,3):\n",
    "        codon = dna[start:start+3]\n",
    "        aa = gencode.get(codon.upper(), 'X')\n",
    "        #print(\"one codon is \" + codon)\n",
    "        #print(\"the amino acid is \" + aa)\n",
    "        protein = protein + aa\n",
    "        #print(\"protein sequence is \" + protein)\n",
    "    return protein\n",
    "\n",
    "print(translate_dna(\"ATGTTCGGT\"))\n",
    "print(translate_dna(\"ATCGATCGATCGTTGCTTATCGATCAG\"))\n",
    "print(translate_dna(\"actgatcgtagctagctgacgtatcgtat\"))\n",
    "print(translate_dna(\"ACGATCGATCGTNACGTACGATCGTACTCG\"))\n",
    "\n",
    "#Turning into assert statement \n",
    "assert(translate_dna(\"ATGTTCGGT\")) == \"MFG\"\n",
    "assert(translate_dna(\"ATCGATCGATCGTTGCTTATCGATCAG\")) == \"IDRSLLIDQ\"\n",
    "assert(translate_dna(\"actgatcgtagcttgcttacgtatcgtat\")) == \"TDRSLLTYR\"\n",
    "assert(translate_dna(\"ACGATCGATCGTNACGTACGATCGTACTCG\")) == \"TIDRXVRSYS\""
   ]
  },
  {
   "cell_type": "code",
   "execution_count": null,
   "metadata": {},
   "outputs": [],
   "source": []
  }
 ],
 "metadata": {
  "kernelspec": {
   "display_name": "Python 2",
   "language": "python",
   "name": "python2"
  },
  "language_info": {
   "codemirror_mode": {
    "name": "ipython",
    "version": 2
   },
   "file_extension": ".py",
   "mimetype": "text/x-python",
   "name": "python",
   "nbconvert_exporter": "python",
   "pygments_lexer": "ipython2",
   "version": "2.7.15"
  }
 },
 "nbformat": 4,
 "nbformat_minor": 2
}
